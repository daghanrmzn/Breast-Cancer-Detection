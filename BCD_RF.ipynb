{
 "cells": [
  {
   "cell_type": "code",
   "execution_count": 9,
   "id": "96ed278a",
   "metadata": {},
   "outputs": [
    {
     "name": "stdout",
     "output_type": "stream",
     "text": [
      "Cross-Validation Scores: [0.96703297 0.94505495 0.97802198 0.94505495 0.93406593]\n",
      "Mean Cross-Validation Accuracy: 0.9538\n",
      "Testing Accuracy: 0.9649\n",
      "Testing F1 Score: 0.9524\n"
     ]
    }
   ],
   "source": [
    "import pandas as pd\n",
    "from sklearn.model_selection import train_test_split, cross_val_score\n",
    "from sklearn.ensemble import RandomForestClassifier\n",
    "from sklearn.metrics import accuracy_score, f1_score\n",
    "from sklearn.preprocessing import StandardScaler\n",
    "\n",
    "# Load the dataset\n",
    "data_path = r\"C:\\Users\\Daghan\\OneDrive\\Masaüstü\\DMP\\cancer_dataset.csv\"\n",
    "df = pd.read_csv(data_path)\n",
    "\n",
    "# Assume the target variable is 'diagnosis' and features are the rest of the columns\n",
    "X = df.drop('diagnosis', axis=1)\n",
    "y = df['diagnosis']\n",
    "\n",
    "# Split the data into training and testing sets\n",
    "X_train, X_test, y_train, y_test = train_test_split(X, y, test_size=0.2, random_state=42)\n",
    "\n",
    "# Standardize the features\n",
    "scaler = StandardScaler()\n",
    "X_train_scaled = scaler.fit_transform(X_train)\n",
    "X_test_scaled = scaler.transform(X_test)\n",
    "\n",
    "# Initialize the Random Forest classifier\n",
    "rf_model = RandomForestClassifier(random_state=42)\n",
    "\n",
    "# Perform cross-validation on the training set\n",
    "cv_scores = cross_val_score(rf_model, X_train_scaled, y_train, cv=5, scoring='accuracy')\n",
    "\n",
    "# Train the model on the entire training set\n",
    "rf_model.fit(X_train_scaled, y_train)\n",
    "\n",
    "# Predictions on test set\n",
    "test_predictions = rf_model.predict(X_test_scaled)\n",
    "\n",
    "# Calculate accuracy and F1 score on test set\n",
    "test_accuracy = accuracy_score(y_test, test_predictions)\n",
    "test_f1_score = f1_score(y_test, test_predictions, pos_label='M')  # Assuming 'M' is the positive class\n",
    "\n",
    "# Print cross-validation scores, testing accuracy, and testing F1 score\n",
    "print(\"Cross-Validation Scores:\", cv_scores)\n",
    "print(f\"Mean Cross-Validation Accuracy: {cv_scores.mean():.4f}\")\n",
    "print(f\"Testing Accuracy: {test_accuracy:.4f}\")\n",
    "print(f\"Testing F1 Score: {test_f1_score:.4f}\")\n"
   ]
  }
 ],
 "metadata": {
  "kernelspec": {
   "display_name": "Python 3 (ipykernel)",
   "language": "python",
   "name": "python3"
  },
  "language_info": {
   "codemirror_mode": {
    "name": "ipython",
    "version": 3
   },
   "file_extension": ".py",
   "mimetype": "text/x-python",
   "name": "python",
   "nbconvert_exporter": "python",
   "pygments_lexer": "ipython3",
   "version": "3.11.5"
  }
 },
 "nbformat": 4,
 "nbformat_minor": 5
}
