{
 "cells": [
  {
   "cell_type": "code",
   "execution_count": 2,
   "id": "11297b75",
   "metadata": {},
   "outputs": [
    {
     "name": "stdout",
     "output_type": "stream",
     "text": [
      "Training Accuracy: 0.9868, Training F1 Score: 0.9821\n",
      "Test Accuracy: 0.9737, Test F1 Score: 0.9647\n"
     ]
    },
    {
     "name": "stderr",
     "output_type": "stream",
     "text": [
      "F:\\2anaconda\\Lib\\site-packages\\sklearn\\impute\\_base.py:555: UserWarning: Skipping features without any observed values: ['Unnamed: 32']. At least one non-missing value is needed for imputation with strategy='mean'.\n",
      "  warnings.warn(\n"
     ]
    }
   ],
   "source": [
    "import pandas as pd\n",
    "from sklearn.model_selection import train_test_split\n",
    "from sklearn.preprocessing import StandardScaler, LabelEncoder\n",
    "from sklearn.impute import SimpleImputer\n",
    "from sklearn.linear_model import LogisticRegression\n",
    "from sklearn.metrics import accuracy_score, f1_score\n",
    "\n",
    "# Load the dataset\n",
    "dataset_path = r\"C:\\Users\\Daghan\\OneDrive\\Masaüstü\\DMP\\BCD_dataset_3.csv\"\n",
    "data = pd.read_csv(dataset_path)\n",
    "\n",
    "# Assuming the target column is named 'target', and features are all other columns\n",
    "X = data.drop('diagnosis', axis=1)\n",
    "y = data['diagnosis']\n",
    "\n",
    "# Convert 'B' and 'M' labels to 0 and 1\n",
    "label_encoder = LabelEncoder()\n",
    "y = label_encoder.fit_transform(y)\n",
    "\n",
    "# Handling missing values with SimpleImputer\n",
    "imputer = SimpleImputer(strategy='mean')\n",
    "X = imputer.fit_transform(X)\n",
    "\n",
    "# Split the dataset into training and testing sets\n",
    "X_train, X_test, y_train, y_test = train_test_split(X, y, test_size=0.2, random_state=42)\n",
    "\n",
    "# Standardize the data (optional but often recommended for Logistic Regression)\n",
    "scaler = StandardScaler()\n",
    "X_train = scaler.fit_transform(X_train)\n",
    "X_test = scaler.transform(X_test)\n",
    "\n",
    "# Initialize the Logistic Regression model\n",
    "logreg_model = LogisticRegression()\n",
    "\n",
    "# Train the model\n",
    "logreg_model.fit(X_train, y_train)\n",
    "\n",
    "# Make predictions on the training set\n",
    "train_predictions = logreg_model.predict(X_train)\n",
    "\n",
    "# Make predictions on the test set\n",
    "test_predictions = logreg_model.predict(X_test)\n",
    "\n",
    "# Calculate accuracy and f1-score for training set\n",
    "train_accuracy = accuracy_score(y_train, train_predictions)\n",
    "train_f1 = f1_score(y_train, train_predictions)\n",
    "\n",
    "# Calculate accuracy and f1-score for test set\n",
    "test_accuracy = accuracy_score(y_test, test_predictions)\n",
    "test_f1 = f1_score(y_test, test_predictions)\n",
    "\n",
    "# Print the results\n",
    "result_text = f\"Training Accuracy: {train_accuracy:.4f}, Training F1 Score: {train_f1:.4f}\\n\" \\\n",
    "              f\"Test Accuracy: {test_accuracy:.4f}, Test F1 Score: {test_f1:.4f}\"\n",
    "\n",
    "print(result_text)\n"
   ]
  },
  {
   "cell_type": "code",
   "execution_count": null,
   "id": "58c7d1ff",
   "metadata": {},
   "outputs": [],
   "source": []
  }
 ],
 "metadata": {
  "kernelspec": {
   "display_name": "Python 3 (ipykernel)",
   "language": "python",
   "name": "python3"
  },
  "language_info": {
   "codemirror_mode": {
    "name": "ipython",
    "version": 3
   },
   "file_extension": ".py",
   "mimetype": "text/x-python",
   "name": "python",
   "nbconvert_exporter": "python",
   "pygments_lexer": "ipython3",
   "version": "3.11.5"
  }
 },
 "nbformat": 4,
 "nbformat_minor": 5
}
