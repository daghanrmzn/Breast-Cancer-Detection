{
 "cells": [
  {
   "cell_type": "markdown",
   "id": "76706ecd",
   "metadata": {},
   "source": [
    "import numpy as np\n",
    "import pandas as pd\n",
    "import matplotlib.pyplot as plt\n",
    "import seaborn as sns"
   ]
  },
  {
   "cell_type": "code",
   "execution_count": 1,
   "id": "a7fec669",
   "metadata": {},
   "outputs": [],
   "source": [
    "import numpy as np\n",
    "import pandas as pd\n",
    "import matplotlib.pyplot as plt\n",
    "import seaborn as sns"
   ]
  },
  {
   "cell_type": "code",
   "execution_count": 2,
   "id": "95969d72",
   "metadata": {},
   "outputs": [],
   "source": [
    "df=pd.read_csv(r\"C:\\Users\\Daghan\\OneDrive\\Masaüstü\\DMP\\cancer_dataset.csv\")"
   ]
  },
  {
   "cell_type": "code",
   "execution_count": 3,
   "id": "1863cefe",
   "metadata": {},
   "outputs": [],
   "source": [
    "#we need this to be converted in number so that this parameter can also be used statistically\n",
    "from sklearn.preprocessing import LabelEncoder\n",
    "labelencoder_Y=LabelEncoder()\n",
    "df.iloc[:,1]=labelencoder_Y.fit_transform(df.iloc[:,1].values)"
   ]
  },
  {
   "cell_type": "code",
   "execution_count": 4,
   "id": "b85dc88f",
   "metadata": {},
   "outputs": [],
   "source": [
    "X=df.iloc[:,2:31].values #features that help us determine if patient has cancer or not\n",
    "Y=df.iloc[:,1].values #this is the dataset containing our target variable which indicates diagnosis"
   ]
  },
  {
   "cell_type": "code",
   "execution_count": 5,
   "id": "f1366800",
   "metadata": {},
   "outputs": [],
   "source": [
    "from sklearn.model_selection import train_test_split\n",
    "X_train, X_test, Y_train, Y_test= train_test_split(X,Y, test_size=0.25, random_state=0)"
   ]
  },
  {
   "cell_type": "code",
   "execution_count": 6,
   "id": "08f154b3",
   "metadata": {},
   "outputs": [],
   "source": [
    "from sklearn.preprocessing import StandardScaler\n",
    "sc=StandardScaler()\n",
    "X_train=sc.fit_transform(X_train)\n",
    "X_test=sc.fit_transform(X_test)"
   ]
  },
  {
   "cell_type": "code",
   "execution_count": 7,
   "id": "95bd31c1",
   "metadata": {},
   "outputs": [],
   "source": [
    "def logreg(X_train, Y_train):\n",
    "    from sklearn.linear_model import LogisticRegression\n",
    "\n",
    "    # Convert Y_train to integers (0 and 1)\n",
    "    Y_train = Y_train.astype(int)\n",
    "\n",
    "    # Create a logistic regression model\n",
    "    log_model = LogisticRegression(random_state=0)\n",
    "\n",
    "    # Train the model\n",
    "    log_model.fit(X_train, Y_train)\n",
    "\n",
    "    # Print the training accuracy\n",
    "    train_accuracy = log_model.score(X_train, Y_train)\n",
    "    print(\"Logistic Regression Training Accuracy:\", train_accuracy)\n",
    "\n",
    "    return log_model"
   ]
  },
  {
   "cell_type": "code",
   "execution_count": 8,
   "id": "a9dc4cd6",
   "metadata": {},
   "outputs": [
    {
     "name": "stdout",
     "output_type": "stream",
     "text": [
      "Logistic Regression Training Accuracy: 0.9906103286384976\n"
     ]
    }
   ],
   "source": [
    "logrex=logreg(X_train, Y_train)"
   ]
  },
  {
   "cell_type": "code",
   "execution_count": 9,
   "id": "143430f4",
   "metadata": {
    "scrolled": true
   },
   "outputs": [
    {
     "name": "stdout",
     "output_type": "stream",
     "text": [
      "[[86  4]\n",
      " [ 3 50]]\n"
     ]
    }
   ],
   "source": [
    "from sklearn.metrics import confusion_matrix\n",
    "Y_test = Y_test.astype(int)\n",
    "cm = confusion_matrix(Y_test, logrex.predict(X_test))\n",
    "print(cm)"
   ]
  },
  {
   "cell_type": "code",
   "execution_count": 10,
   "id": "799c989b",
   "metadata": {},
   "outputs": [
    {
     "name": "stdout",
     "output_type": "stream",
     "text": [
      "Testing accuracy of logistic regression model= 0.951048951048951\n"
     ]
    }
   ],
   "source": [
    "TP=cm[0][0]\n",
    "TN=cm[1][1]\n",
    "FN=cm[1][0]\n",
    "FP=cm[0][1]\n",
    "print(\"Testing accuracy of logistic regression model=\", (TP+TN)/(TP+TN+FN+FP))"
   ]
  }
 ],
 "metadata": {
  "kernelspec": {
   "display_name": "Python 3 (ipykernel)",
   "language": "python",
   "name": "python3"
  },
  "language_info": {
   "codemirror_mode": {
    "name": "ipython",
    "version": 3
   },
   "file_extension": ".py",
   "mimetype": "text/x-python",
   "name": "python",
   "nbconvert_exporter": "python",
   "pygments_lexer": "ipython3",
   "version": "3.11.5"
  }
 },
 "nbformat": 4,
 "nbformat_minor": 5
}
